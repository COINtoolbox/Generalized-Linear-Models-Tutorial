{
  "nbformat": 4,
  "nbformat_minor": 0,
  "metadata": {
    "colab": {
      "provenance": [],
      "authorship_tag": "ABX9TyOwVRZ1leLwmxOqx/EZlAeF",
      "include_colab_link": true
    },
    "kernelspec": {
      "name": "python3",
      "display_name": "Python 3"
    },
    "language_info": {
      "name": "python"
    },
    "widgets": {
      "application/vnd.jupyter.widget-state+json": {
        "a8322205bef841d2957816966219fe44": {
          "model_module": "@jupyter-widgets/output",
          "model_name": "OutputModel",
          "model_module_version": "1.0.0",
          "state": {
            "_dom_classes": [],
            "_model_module": "@jupyter-widgets/output",
            "_model_module_version": "1.0.0",
            "_model_name": "OutputModel",
            "_view_count": null,
            "_view_module": "@jupyter-widgets/output",
            "_view_module_version": "1.0.0",
            "_view_name": "OutputView",
            "layout": "IPY_MODEL_d72d604f9dfd407fa64ee6f2f009edac",
            "msg_id": "",
            "outputs": [
              {
                "output_type": "display_data",
                "data": {
                  "text/plain": "                                                                                                                   \n \u001b[1m \u001b[0m\u001b[1mProgress                 \u001b[0m\u001b[1m \u001b[0m \u001b[1m \u001b[0m\u001b[1mDraws\u001b[0m\u001b[1m \u001b[0m \u001b[1m \u001b[0m\u001b[1mDivergences\u001b[0m\u001b[1m \u001b[0m \u001b[1m \u001b[0m\u001b[1mStep size\u001b[0m\u001b[1m \u001b[0m \u001b[1m \u001b[0m\u001b[1mGrad evals\u001b[0m\u001b[1m \u001b[0m \u001b[1m \u001b[0m\u001b[1mSampling Speed\u001b[0m\u001b[1m \u001b[0m \u001b[1m \u001b[0m\u001b[1mElapsed\u001b[0m\u001b[1m \u001b[0m \u001b[1m \u001b[0m\u001b[1mRemaining\u001b[0m\u001b[1m \u001b[0m \n ───────────────────────────────────────────────────────────────────────────────────────────────────────────────── \n  \u001b[38;2;31;119;180m━━━━━━━━━━━━━━━━━━━━━━━━━\u001b[0m   2500    0             0.08        31           47.03 draws/s    0:00:53   0:00:00    \n  \u001b[38;2;31;119;180m━━━━━━━━━━━━━━━━━━━━━━━━━\u001b[0m   2500    0             0.11        63           32.14 draws/s    0:01:17   0:00:00    \n  \u001b[38;2;31;119;180m━━━━━━━━━━━━━━━━━━━━━━━━━\u001b[0m   2500    0             0.08        63           32.56 draws/s    0:01:16   0:00:00    \n                                                                                                                   \n",
                  "text/html": "<pre style=\"white-space:pre;overflow-x:auto;line-height:normal;font-family:Menlo,'DejaVu Sans Mono',consolas,'Courier New',monospace\">                                                                                                                   \n <span style=\"font-weight: bold\"> Progress                  </span> <span style=\"font-weight: bold\"> Draws </span> <span style=\"font-weight: bold\"> Divergences </span> <span style=\"font-weight: bold\"> Step size </span> <span style=\"font-weight: bold\"> Grad evals </span> <span style=\"font-weight: bold\"> Sampling Speed </span> <span style=\"font-weight: bold\"> Elapsed </span> <span style=\"font-weight: bold\"> Remaining </span> \n ───────────────────────────────────────────────────────────────────────────────────────────────────────────────── \n  <span style=\"color: #1f77b4; text-decoration-color: #1f77b4\">━━━━━━━━━━━━━━━━━━━━━━━━━</span>   2500    0             0.08        31           47.03 draws/s    0:00:53   0:00:00    \n  <span style=\"color: #1f77b4; text-decoration-color: #1f77b4\">━━━━━━━━━━━━━━━━━━━━━━━━━</span>   2500    0             0.11        63           32.14 draws/s    0:01:17   0:00:00    \n  <span style=\"color: #1f77b4; text-decoration-color: #1f77b4\">━━━━━━━━━━━━━━━━━━━━━━━━━</span>   2500    0             0.08        63           32.56 draws/s    0:01:16   0:00:00    \n                                                                                                                   \n</pre>\n"
                },
                "metadata": {}
              }
            ]
          }
        },
        "d72d604f9dfd407fa64ee6f2f009edac": {
          "model_module": "@jupyter-widgets/base",
          "model_name": "LayoutModel",
          "model_module_version": "1.2.0",
          "state": {
            "_model_module": "@jupyter-widgets/base",
            "_model_module_version": "1.2.0",
            "_model_name": "LayoutModel",
            "_view_count": null,
            "_view_module": "@jupyter-widgets/base",
            "_view_module_version": "1.2.0",
            "_view_name": "LayoutView",
            "align_content": null,
            "align_items": null,
            "align_self": null,
            "border": null,
            "bottom": null,
            "display": null,
            "flex": null,
            "flex_flow": null,
            "grid_area": null,
            "grid_auto_columns": null,
            "grid_auto_flow": null,
            "grid_auto_rows": null,
            "grid_column": null,
            "grid_gap": null,
            "grid_row": null,
            "grid_template_areas": null,
            "grid_template_columns": null,
            "grid_template_rows": null,
            "height": null,
            "justify_content": null,
            "justify_items": null,
            "left": null,
            "margin": null,
            "max_height": null,
            "max_width": null,
            "min_height": null,
            "min_width": null,
            "object_fit": null,
            "object_position": null,
            "order": null,
            "overflow": null,
            "overflow_x": null,
            "overflow_y": null,
            "padding": null,
            "right": null,
            "top": null,
            "visibility": null,
            "width": null
          }
        }
      }
    }
  },
  "cells": [
    {
      "cell_type": "markdown",
      "metadata": {
        "id": "view-in-github",
        "colab_type": "text"
      },
      "source": [
        "<a href=\"https://colab.research.google.com/github/COINtoolbox/Generalized-Linear-Models-Tutorial/blob/master/nb_pymc.ipynb\" target=\"_parent\"><img src=\"https://colab.research.google.com/assets/colab-badge.svg\" alt=\"Open In Colab\"/></a>"
      ]
    },
    {
      "cell_type": "code",
      "execution_count": null,
      "metadata": {
        "id": "LtLIIjjMnoCX"
      },
      "outputs": [],
      "source": [
        "# run_nb_eiv_mstar_pymc.py\n",
        "# Bayesian Negative-Binomial regression for GC counts with Errors-in-Variables (PyMC)\n",
        "# Predictor: x = log10(M*/Msun) derived from MV and (B-V) via Bell+03 (Chabrier IMF)\n",
        "# Output: NGC_Mstar_pymc.pdf\n",
        "\n",
        "import numpy as np\n",
        "import pandas as pd\n",
        "import pymc as pm\n",
        "import pytensor.tensor as at\n",
        "import arviz as az\n",
        "import matplotlib.pyplot as plt\n",
        "\n",
        "RNG_SEED = 42\n",
        "np.random.seed(RNG_SEED)"
      ]
    },
    {
      "cell_type": "code",
      "source": [
        "# ------------------------- Data ---------------------------------------------\n",
        "url = \"https://raw.githubusercontent.com/COINtoolbox/NB_GCs/refs/heads/master/Dataset/GCs_full.csv\"\n",
        "df = pd.read_csv(url, delim_whitespace=True)\n",
        "df = df[df[\"MV_T\"].notna()].copy()"
      ],
      "metadata": {
        "colab": {
          "base_uri": "https://localhost:8080/"
        },
        "id": "jfkM-uoXnsWY",
        "outputId": "f0e435b1-af92-48c7-9fb4-ab7b4b19485e"
      },
      "execution_count": null,
      "outputs": [
        {
          "output_type": "stream",
          "name": "stderr",
          "text": [
            "/tmp/ipython-input-854762004.py:3: FutureWarning: The 'delim_whitespace' keyword in pd.read_csv is deprecated and will be removed in a future version. Use ``sep='\\s+'`` instead\n",
            "  df = pd.read_csv(url, delim_whitespace=True)\n"
          ]
        }
      ]
    },
    {
      "cell_type": "code",
      "source": [
        "# after reading and parsing the table (with delim_whitespace=True) and before df_fit:\n",
        "df = df[df[\"Type\"] == \"E\"].copy()\n"
      ],
      "metadata": {
        "id": "Qf38MWpNxYKW"
      },
      "execution_count": null,
      "outputs": []
    },
    {
      "cell_type": "code",
      "source": [
        "print(df.columns.tolist())"
      ],
      "metadata": {
        "colab": {
          "base_uri": "https://localhost:8080/"
        },
        "id": "WLQN9xUjo6rc",
        "outputId": "1947a054-facf-481f-8e6e-9915531bee77"
      },
      "execution_count": null,
      "outputs": [
        {
          "output_type": "stream",
          "name": "stdout",
          "text": [
            "['Galaxy', 'Type', 'N_GC', 'N_GC_err', 'Mdyn', 'MBH', 'sig_e', 'err_sig_e', 'A_V', 'MV_T', 'err_MV_T', 'MK', 'Re', 'upMBH', 'lowMBH', 'BV', 'sBV', 'MV0', 'logMstar_obs', 'err_logMstar']\n"
          ]
        }
      ]
    },
    {
      "cell_type": "code",
      "source": [
        "# Bell+03 (Chabrier) M*/L_V:\n",
        "#   log10(M*/L_V) = -0.778 + 1.305 * (B-V)_0\n",
        "#   M_V,0 = M_V - A_V ; M_V,Sun = 4.83\n",
        "M_Vsun = 4.83\n",
        "\n",
        "BV_typical = {\"E\":0.96, \"S0\":0.88, \"S\":0.70, \"Irr\":0.45}\n",
        "BV_sigma   = {\"E\":0.05, \"S0\":0.06, \"S\":0.08, \"Irr\":0.10}\n",
        "\n",
        "df[\"BV\"]  = df[\"Type\"].map(BV_typical)\n",
        "df[\"sBV\"] = df[\"Type\"].map(BV_sigma)\n",
        "df[\"MV0\"] = df[\"MV_T\"] - df[\"A_V\"]\n",
        "\n",
        "# Observed x = log10(M*/Msun)\n",
        "df[\"logMstar_obs\"] = -0.4*(df[\"MV0\"] - M_Vsun) - 0.778 + 1.305*df[\"BV\"]\n",
        "\n",
        "# Propagate uncertainties (first-order):\n",
        "# d logM*/d M_V = -0.4 ; d logM*/d(B-V) = 1.305\n",
        "err_logMstar = np.sqrt((0.4*df[\"err_MV_T\"])**2 + (1.305*df[\"sBV\"])**2)\n",
        "err_logMstar = err_logMstar.replace([np.inf, -np.inf], np.nan).fillna(0.01)\n",
        "err_logMstar = np.maximum(err_logMstar, 0.01)\n",
        "df[\"err_logMstar\"] = err_logMstar\n",
        "\n",
        "# Count uncertainties for measurement layer; floor at 0.5 (rounding)\n",
        "df[\"N_GC_err\"] = np.maximum(df[\"N_GC_err\"], 0.5)\n",
        "\n",
        "# Keep essentials and ensure integer counts\n",
        "df_fit = (df\n",
        "          .loc[np.isfinite(df[\"logMstar_obs\"])\n",
        "               & np.isfinite(df[\"err_logMstar\"])\n",
        "               & df[\"N_GC\"].notna(),\n",
        "               [\"logMstar_obs\", \"err_logMstar\", \"N_GC\", \"N_GC_err\"]]\n",
        "          .copy())\n",
        "df_fit[\"N_GC\"] = np.maximum(0, np.round(df_fit[\"N_GC\"]).astype(int))\n",
        "\n",
        "x_obs    = df_fit[\"logMstar_obs\"].to_numpy()\n",
        "x_err    = df_fit[\"err_logMstar\"].to_numpy()\n",
        "N_GC     = df_fit[\"N_GC\"].to_numpy().astype(float)  # Normal can take float observed\n",
        "N_GC_err = df_fit[\"N_GC_err\"].to_numpy()\n",
        "N        = len(df_fit)\n",
        "\n",
        "# Prediction grid\n",
        "M      = 2000\n",
        "x_pred = np.linspace(6.5, 12.5, M).astype(float)\n"
      ],
      "metadata": {
        "id": "PICd0XqhoKMT"
      },
      "execution_count": null,
      "outputs": []
    },
    {
      "cell_type": "code",
      "source": [
        "# ---------------- PyMC model (fast: no measurement error on N) ---------------\n",
        "with pm.Model() as model_fast:\n",
        "    # Priors\n",
        "    beta0 = pm.Normal(\"beta0\", 0.0, 10.0)\n",
        "    beta1 = pm.Normal(\"beta1\", 0.0, 10.0)\n",
        "    phi   = pm.Gamma(\"phi\", alpha=2.0, beta=0.1)         # NB2 dispersion\n",
        "    alpha = pm.Deterministic(\"alpha\", 1.0 / phi)         # PyMC: Var = mu + alpha*mu^2\n",
        "\n",
        "    # EIV on predictor (per-datum x_err)\n",
        "    x_true = pm.Normal(\"x_true\", mu=x_obs, sigma=x_err, shape=N)\n",
        "\n",
        "    # Mean relation\n",
        "    eta = beta0 + beta1 * x_true\n",
        "    mu  = pm.Deterministic(\"mu\", at.exp(eta))\n",
        "\n",
        "    # Direct NB likelihood on observed integer counts (no Normal layer)\n",
        "    pm.NegativeBinomial(\"N_GC\", mu=mu, alpha=alpha,\n",
        "                        observed=df_fit[\"N_GC\"].to_numpy(dtype=int))\n",
        "\n",
        "    # Predictions on grid (deterministic; summarize posterior of mu_pred)\n",
        "    mu_pred = pm.Deterministic(\"mu_pred\", at.exp(beta0 + beta1 * x_pred))\n",
        "\n",
        "    idata = pm.sample(\n",
        "        draws=2000, tune=500, chains=3, cores=3,\n",
        "        target_accept=0.9, random_seed=RNG_SEED\n",
        "    )\n"
      ],
      "metadata": {
        "colab": {
          "base_uri": "https://localhost:8080/",
          "height": 143,
          "referenced_widgets": [
            "a8322205bef841d2957816966219fe44",
            "d72d604f9dfd407fa64ee6f2f009edac"
          ]
        },
        "id": "yu0A41yNnv9L",
        "outputId": "a7fd3606-484c-4e83-9ff0-62d66b2fe3b4"
      },
      "execution_count": null,
      "outputs": [
        {
          "output_type": "display_data",
          "data": {
            "text/plain": [
              "Output()"
            ],
            "application/vnd.jupyter.widget-view+json": {
              "version_major": 2,
              "version_minor": 0,
              "model_id": "a8322205bef841d2957816966219fe44"
            }
          },
          "metadata": {}
        },
        {
          "output_type": "display_data",
          "data": {
            "text/plain": [],
            "text/html": [
              "<pre style=\"white-space:pre;overflow-x:auto;line-height:normal;font-family:Menlo,'DejaVu Sans Mono',consolas,'Courier New',monospace\"></pre>\n"
            ]
          },
          "metadata": {}
        }
      ]
    },
    {
      "cell_type": "code",
      "source": [
        "print(idata.posterior.data_vars)\n"
      ],
      "metadata": {
        "colab": {
          "base_uri": "https://localhost:8080/"
        },
        "id": "irrxUcYgwLCQ",
        "outputId": "f016fced-3de2-49c6-eed3-17e9ca3badc3"
      },
      "execution_count": null,
      "outputs": [
        {
          "output_type": "stream",
          "name": "stdout",
          "text": [
            "Data variables:\n",
            "    alpha    (chain, draw) float64 48kB 1.44 1.371 1.478 ... 1.506 1.382 1.425\n",
            "    beta0    (chain, draw) float64 48kB -15.93 -16.35 -15.95 ... -15.93 -16.57\n",
            "    beta1    (chain, draw) float64 48kB 2.118 2.153 2.106 ... 2.164 2.117 2.167\n",
            "    mu       (chain, draw, mu_dim_0) float64 12MB 11.59 13.06 ... 5.129e+03\n",
            "    mu_pred  (chain, draw, mu_pred_dim_0) float64 96MB 0.1149 ... 3.671e+04\n",
            "    phi      (chain, draw) float64 48kB 0.6944 0.7294 0.6766 ... 0.7238 0.7018\n",
            "    x_true   (chain, draw, x_true_dim_0) float64 12MB 8.678 8.735 ... 11.59\n"
          ]
        }
      ]
    },
    {
      "cell_type": "code",
      "source": [
        "# ------------------------- Summaries on mu_pred ------------------------------\n",
        "# idata.posterior[\"mu_pred\"] has shape (chain, draw, M)\n",
        "# idata.posterior[\"mu_pred\"] dims: (chain, draw, mu_pred_dim_0)\n",
        "da = idata.posterior[\"mu_pred\"]\n",
        "\n",
        "q = da.quantile([0.05, 0.25, 0.50, 0.75, 0.95], dim=(\"chain\", \"draw\"))  # -> (quantile, mu_pred_dim_0)\n",
        "\n",
        "lwr95 = q.sel(quantile=0.05).values\n",
        "lwr50 = q.sel(quantile=0.25).values\n",
        "median = q.sel(quantile=0.50).values\n",
        "upr50 = q.sel(quantile=0.75).values\n",
        "upr95 = q.sel(quantile=0.95).values"
      ],
      "metadata": {
        "id": "-czjKzg9r135"
      },
      "execution_count": null,
      "outputs": []
    },
    {
      "cell_type": "code",
      "source": [
        "# ------------------------- Plot (pseudo-log, base 10, sigma=5) --------------\n",
        "def plog10_asinh(y, sigma=5.0):\n",
        "    # y' = asinh( (y/sigma)/ln(10) )\n",
        "    return np.arcsinh((y / sigma) / np.log(10.0))\n",
        "\n",
        "# Ticks and labels to mimic your R plot\n",
        "yticks = np.array([0, 10, 100, 1e3, 1e4, 1e5], dtype=float)\n",
        "ytick_labels = [\"0\", r\"$10^{1}$\", r\"$10^{2}$\", r\"$10^{3}$\", r\"$10^{4}$\", r\"$10^{5}$\"]\n",
        "\n",
        "fig, ax = plt.subplots(figsize=(7,5))\n",
        "\n",
        "# data (transform y)\n",
        "ax.errorbar(\n",
        "    x_obs, plog10_asinh(N_GC),\n",
        "    yerr=[plog10_asinh(N_GC) - plog10_asinh(np.maximum(N_GC - N_GC_err, 0.0)),\n",
        "          plog10_asinh(N_GC + N_GC_err) - plog10_asinh(N_GC)],\n",
        "    xerr=[x_err, x_err],\n",
        "    fmt=\"o\", ms=2.5, mfc=\"lightgray\", mec=\"none\", ecolor=\"silver\", elinewidth=0.8, alpha=0.9\n",
        ")\n",
        "\n",
        "# ribbons + median (transform y)\n",
        "ax.fill_between(\n",
        "    x_pred, plog10_asinh(lwr95), plog10_asinh(upr95),\n",
        "    alpha=0.9, color=\"#FFA630\", linewidth=0\n",
        ")\n",
        "# Use a step-like feel: draw as a regular line; the grid is dense enough\n",
        "ax.plot(x_pred, plog10_asinh(median), lw=1.5, color=\"#0474BA\")\n",
        "\n",
        "# y axis cosmetics\n",
        "ax.set_yticks(plog10_asinh(yticks))\n",
        "ax.set_yticklabels(ytick_labels)\n",
        "\n",
        "ax.set_xlabel(r\"$\\log_{10}\\,(M_{\\star}/M_{\\odot})$\")\n",
        "ax.set_ylabel(r\"$N_{\\rm GC}$\")\n",
        "ax.grid(True, alpha=0.2)\n",
        "fig.tight_layout()\n",
        "plt.show()"
      ],
      "metadata": {
        "colab": {
          "base_uri": "https://localhost:8080/",
          "height": 505
        },
        "id": "DuGb-8aAn04r",
        "outputId": "d7417d2e-f4c7-4862-eb42-3cd0f0c15775"
      },
      "execution_count": null,
      "outputs": [
        {
          "output_type": "display_data",
          "data": {
            "text/plain": [
              "<Figure size 700x500 with 1 Axes>"
            ],
            "image/png": "[encoded data removed]"
          },
          "metadata": {}
        }
      ]
    }
  ]
}